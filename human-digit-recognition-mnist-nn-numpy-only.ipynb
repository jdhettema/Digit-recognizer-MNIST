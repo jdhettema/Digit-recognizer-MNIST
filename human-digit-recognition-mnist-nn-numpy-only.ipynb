{
 "cells": [
  {
   "cell_type": "code",
   "execution_count": 1,
   "id": "387d0707",
   "metadata": {
    "_cell_guid": "b1076dfc-b9ad-4769-8c92-a6c4dae69d19",
    "_uuid": "8f2839f25d086af736a60e9eeb907d3b93b6e0e5",
    "execution": {
     "iopub.execute_input": "2025-04-24T20:11:01.495298Z",
     "iopub.status.busy": "2025-04-24T20:11:01.494908Z",
     "iopub.status.idle": "2025-04-24T20:11:07.650870Z",
     "shell.execute_reply": "2025-04-24T20:11:07.649705Z"
    },
    "papermill": {
     "duration": 6.162565,
     "end_time": "2025-04-24T20:11:07.652922",
     "exception": false,
     "start_time": "2025-04-24T20:11:01.490357",
     "status": "completed"
    },
    "tags": []
   },
   "outputs": [],
   "source": [
    "# This Python 3 environment comes with many helpful analytics libraries installed\n",
    "# It is defined by the kaggle/python Docker image: https://github.com/kaggle/docker-python\n",
    "# For example, here's several helpful packages to load\n",
    "\n",
    "import numpy as np # linear algebra\n",
    "import pandas as pd\n",
    "from matplotlib import pyplot as plt\n",
    "\n",
    "data = pd.read_csv('/kaggle/input/digit-recognizer/train.csv')\n"
   ]
  },
  {
   "cell_type": "code",
   "execution_count": 2,
   "id": "46cddded",
   "metadata": {
    "execution": {
     "iopub.execute_input": "2025-04-24T20:11:07.661429Z",
     "iopub.status.busy": "2025-04-24T20:11:07.661050Z",
     "iopub.status.idle": "2025-04-24T20:11:08.801608Z",
     "shell.execute_reply": "2025-04-24T20:11:08.800464Z"
    },
    "papermill": {
     "duration": 1.147057,
     "end_time": "2025-04-24T20:11:08.803709",
     "exception": false,
     "start_time": "2025-04-24T20:11:07.656652",
     "status": "completed"
    },
    "tags": []
   },
   "outputs": [],
   "source": [
    "data = np.array(data)\n",
    "m, n = data.shape\n",
    "np.random.shuffle(data)\n",
    "data_dev = data[0:1000].T\n",
    "Y_dev = data_dev[0]\n",
    "X_dev = data_dev[1:n]\n",
    "X_dev = X_dev / 255\n",
    "data_train = data[1000:m].T\n",
    "Y_train = data_train[0]\n",
    "X_train = data_train[1:n]\n",
    "X_train = X_train / 255\n",
    "_, m_train = X_train.shape"
   ]
  },
  {
   "cell_type": "code",
   "execution_count": 3,
   "id": "7b6565df",
   "metadata": {
    "execution": {
     "iopub.execute_input": "2025-04-24T20:11:08.810408Z",
     "iopub.status.busy": "2025-04-24T20:11:08.810008Z",
     "iopub.status.idle": "2025-04-24T20:11:08.817879Z",
     "shell.execute_reply": "2025-04-24T20:11:08.816841Z"
    },
    "papermill": {
     "duration": 0.013063,
     "end_time": "2025-04-24T20:11:08.819464",
     "exception": false,
     "start_time": "2025-04-24T20:11:08.806401",
     "status": "completed"
    },
    "tags": []
   },
   "outputs": [
    {
     "data": {
      "text/plain": [
       "array([9, 8, 7, ..., 6, 3, 8])"
      ]
     },
     "execution_count": 3,
     "metadata": {},
     "output_type": "execute_result"
    }
   ],
   "source": [
    "Y_train"
   ]
  },
  {
   "cell_type": "code",
   "execution_count": 4,
   "id": "3892032a",
   "metadata": {
    "execution": {
     "iopub.execute_input": "2025-04-24T20:11:08.827253Z",
     "iopub.status.busy": "2025-04-24T20:11:08.825899Z",
     "iopub.status.idle": "2025-04-24T20:11:08.837172Z",
     "shell.execute_reply": "2025-04-24T20:11:08.836216Z"
    },
    "papermill": {
     "duration": 0.017318,
     "end_time": "2025-04-24T20:11:08.839473",
     "exception": false,
     "start_time": "2025-04-24T20:11:08.822155",
     "status": "completed"
    },
    "tags": []
   },
   "outputs": [],
   "source": [
    "def init_params():\n",
    "    W1 = np.random.rand(10, 784) - 0.5\n",
    "    b1 = np.random.rand(10, 1) - 0.5\n",
    "    W2 = np.random.rand(10, 10) - 0.5\n",
    "    b2 = np.random.rand(10, 1) - 0.5\n",
    "    return W1, b1, W2, b2\n",
    "\n",
    "def ReLU(Z):\n",
    "    return np.maximum(Z, 0)\n",
    "\n",
    "def softmax(Z):\n",
    "    A = np.exp(Z) / sum(np.exp(Z))\n",
    "    return A\n",
    "\n",
    "def forward_prop(W1, b1, W2, b2, X):\n",
    "    Z1 = W1.dot(X) + b1\n",
    "    A1 = ReLU(Z1)\n",
    "    Z2 = W2.dot(A1) + b2\n",
    "    A2 = softmax(Z2)\n",
    "    return Z1, A1, Z2, A2\n",
    "\n",
    "def ReLU_deriv(Z):\n",
    "    return Z > 0\n",
    "\n",
    "def one_hot(Y):\n",
    "    one_hot_Y = np.zeros((Y.size, Y.max() + 1))\n",
    "    one_hot_Y[np.arange(Y.size), Y] = 1\n",
    "    one_hot_Y = one_hot_Y.T\n",
    "    return one_hot_Y\n",
    "\n",
    "def backward_prop(Z1, A1, Z2, A2, W1, W2, X, Y):\n",
    "    one_hot_Y = one_hot(Y)\n",
    "    dZ2 = A2 - one_hot_Y\n",
    "    dW2 = 1 / m * dZ2.dot(A1.T)\n",
    "    db2 = 1 / m * np.sum(dZ2)\n",
    "    dZ1 = W2.T.dot(dZ2) * ReLU_deriv(Z1)\n",
    "    dW1 = 1 / m * dZ1.dot(X.T)\n",
    "    db1 = 1 / m * np.sum(dZ1)\n",
    "    return dW1, db1, dW2, db2\n",
    "\n",
    "def update_params(W1, b1, W2, b2, dW1, db1, dW2, db2, alpha):\n",
    "    W1 = W1 - alpha * dW1\n",
    "    b1 = b1 - alpha * db1\n",
    "    W2 = W2 - alpha * dW2\n",
    "    b2 = b2 - alpha * db2\n",
    "    return W1, b1, W2, b2"
   ]
  },
  {
   "cell_type": "code",
   "execution_count": 5,
   "id": "10ee2073",
   "metadata": {
    "execution": {
     "iopub.execute_input": "2025-04-24T20:11:08.846819Z",
     "iopub.status.busy": "2025-04-24T20:11:08.846364Z",
     "iopub.status.idle": "2025-04-24T20:11:08.854536Z",
     "shell.execute_reply": "2025-04-24T20:11:08.853407Z"
    },
    "papermill": {
     "duration": 0.014285,
     "end_time": "2025-04-24T20:11:08.856841",
     "exception": false,
     "start_time": "2025-04-24T20:11:08.842556",
     "status": "completed"
    },
    "tags": []
   },
   "outputs": [],
   "source": [
    "def get_predictions(A2):\n",
    "    return np.argmax(A2, 0)\n",
    "\n",
    "def get_accuracy(predictions, Y):\n",
    "    print(predictions, Y)\n",
    "    return np.sum(predictions == Y) / Y.size\n",
    "\n",
    "def gradient_descent(X, Y, alpha, iterations):\n",
    "    W1, b1, W2, b2 = init_params()\n",
    "    for i in range(iterations):\n",
    "        Z1, A1, Z2, A2 = forward_prop(W1, b1, W2, b2, X)\n",
    "        dW1, db1, dW2, db2 = backward_prop(Z1, A1, Z2, A2, W1, W2, X, Y)\n",
    "        W1, b1, W2, b2 = update_params(W1, b1, W2, b2, dW1, db1, dW2, db2, alpha)\n",
    "        if i % 10 == 0:\n",
    "            print(\"Iteration: \", i)\n",
    "            predictions = get_predictions(A2)\n",
    "            print(get_accuracy(predictions, Y))\n",
    "    return W1, b1, W2, b2"
   ]
  },
  {
   "cell_type": "code",
   "execution_count": 6,
   "id": "9b8900d5",
   "metadata": {
    "execution": {
     "iopub.execute_input": "2025-04-24T20:11:08.864808Z",
     "iopub.status.busy": "2025-04-24T20:11:08.864421Z",
     "iopub.status.idle": "2025-04-24T20:11:54.287805Z",
     "shell.execute_reply": "2025-04-24T20:11:54.286709Z"
    },
    "papermill": {
     "duration": 45.429087,
     "end_time": "2025-04-24T20:11:54.290050",
     "exception": false,
     "start_time": "2025-04-24T20:11:08.860963",
     "status": "completed"
    },
    "tags": []
   },
   "outputs": [
    {
     "name": "stdout",
     "output_type": "stream",
     "text": [
      "Iteration:  0\n",
      "[9 9 7 ... 9 8 0] [9 8 7 ... 6 3 8]\n",
      "0.11414634146341464\n",
      "Iteration:  10\n",
      "[4 7 7 ... 5 3 3] [9 8 7 ... 6 3 8]\n",
      "0.20119512195121952\n",
      "Iteration:  20\n",
      "[4 6 7 ... 5 8 1] [9 8 7 ... 6 3 8]\n",
      "0.28039024390243905\n",
      "Iteration:  30\n",
      "[4 6 7 ... 5 6 1] [9 8 7 ... 6 3 8]\n",
      "0.34509756097560973\n",
      "Iteration:  40\n",
      "[4 8 7 ... 5 6 1] [9 8 7 ... 6 3 8]\n",
      "0.4040487804878049\n",
      "Iteration:  50\n",
      "[4 8 7 ... 5 6 1] [9 8 7 ... 6 3 8]\n",
      "0.4586585365853659\n",
      "Iteration:  60\n",
      "[4 8 7 ... 5 8 1] [9 8 7 ... 6 3 8]\n",
      "0.504219512195122\n",
      "Iteration:  70\n",
      "[4 8 7 ... 5 8 1] [9 8 7 ... 6 3 8]\n",
      "0.543829268292683\n",
      "Iteration:  80\n",
      "[4 8 7 ... 5 3 1] [9 8 7 ... 6 3 8]\n",
      "0.576\n",
      "Iteration:  90\n",
      "[4 8 7 ... 5 3 1] [9 8 7 ... 6 3 8]\n",
      "0.6046585365853658\n",
      "Iteration:  100\n",
      "[4 8 7 ... 5 5 1] [9 8 7 ... 6 3 8]\n",
      "0.6286341463414634\n",
      "Iteration:  110\n",
      "[4 8 7 ... 5 5 1] [9 8 7 ... 6 3 8]\n",
      "0.6505121951219512\n",
      "Iteration:  120\n",
      "[4 8 7 ... 5 5 1] [9 8 7 ... 6 3 8]\n",
      "0.6722926829268293\n",
      "Iteration:  130\n",
      "[4 8 7 ... 5 5 1] [9 8 7 ... 6 3 8]\n",
      "0.6900243902439024\n",
      "Iteration:  140\n",
      "[4 8 7 ... 5 5 1] [9 8 7 ... 6 3 8]\n",
      "0.7038780487804878\n",
      "Iteration:  150\n",
      "[4 8 7 ... 5 5 1] [9 8 7 ... 6 3 8]\n",
      "0.7171951219512195\n",
      "Iteration:  160\n",
      "[4 8 7 ... 5 5 1] [9 8 7 ... 6 3 8]\n",
      "0.7290487804878049\n",
      "Iteration:  170\n",
      "[4 8 7 ... 5 5 1] [9 8 7 ... 6 3 8]\n",
      "0.739\n",
      "Iteration:  180\n",
      "[4 8 7 ... 5 5 1] [9 8 7 ... 6 3 8]\n",
      "0.7484390243902439\n",
      "Iteration:  190\n",
      "[9 8 7 ... 5 5 1] [9 8 7 ... 6 3 8]\n",
      "0.7562439024390244\n",
      "Iteration:  200\n",
      "[9 8 7 ... 5 5 1] [9 8 7 ... 6 3 8]\n",
      "0.763219512195122\n",
      "Iteration:  210\n",
      "[9 8 7 ... 5 5 1] [9 8 7 ... 6 3 8]\n",
      "0.7695121951219512\n",
      "Iteration:  220\n",
      "[9 8 7 ... 5 5 1] [9 8 7 ... 6 3 8]\n",
      "0.7753170731707317\n",
      "Iteration:  230\n",
      "[9 8 7 ... 5 5 1] [9 8 7 ... 6 3 8]\n",
      "0.7806341463414634\n",
      "Iteration:  240\n",
      "[9 8 7 ... 5 5 1] [9 8 7 ... 6 3 8]\n",
      "0.7850731707317073\n",
      "Iteration:  250\n",
      "[9 8 7 ... 5 5 1] [9 8 7 ... 6 3 8]\n",
      "0.7901219512195122\n",
      "Iteration:  260\n",
      "[9 8 7 ... 5 5 1] [9 8 7 ... 6 3 8]\n",
      "0.7948780487804878\n",
      "Iteration:  270\n",
      "[9 8 7 ... 5 5 1] [9 8 7 ... 6 3 8]\n",
      "0.7983658536585366\n",
      "Iteration:  280\n",
      "[9 8 7 ... 5 5 1] [9 8 7 ... 6 3 8]\n",
      "0.8017804878048781\n",
      "Iteration:  290\n",
      "[9 8 7 ... 5 5 1] [9 8 7 ... 6 3 8]\n",
      "0.8056585365853659\n",
      "Iteration:  300\n",
      "[9 8 7 ... 6 5 1] [9 8 7 ... 6 3 8]\n",
      "0.8096829268292683\n",
      "Iteration:  310\n",
      "[9 8 7 ... 6 5 1] [9 8 7 ... 6 3 8]\n",
      "0.8119512195121952\n",
      "Iteration:  320\n",
      "[9 8 7 ... 6 5 1] [9 8 7 ... 6 3 8]\n",
      "0.8146585365853658\n",
      "Iteration:  330\n",
      "[9 8 7 ... 6 5 1] [9 8 7 ... 6 3 8]\n",
      "0.8173658536585365\n",
      "Iteration:  340\n",
      "[9 8 7 ... 6 5 1] [9 8 7 ... 6 3 8]\n",
      "0.82\n",
      "Iteration:  350\n",
      "[9 8 7 ... 6 5 1] [9 8 7 ... 6 3 8]\n",
      "0.8221219512195121\n",
      "Iteration:  360\n",
      "[9 8 7 ... 6 5 1] [9 8 7 ... 6 3 8]\n",
      "0.8246829268292682\n",
      "Iteration:  370\n",
      "[9 8 7 ... 6 5 1] [9 8 7 ... 6 3 8]\n",
      "0.8268292682926829\n",
      "Iteration:  380\n",
      "[9 8 7 ... 6 5 1] [9 8 7 ... 6 3 8]\n",
      "0.8286341463414634\n",
      "Iteration:  390\n",
      "[9 8 7 ... 6 5 1] [9 8 7 ... 6 3 8]\n",
      "0.8302926829268292\n",
      "Iteration:  400\n",
      "[9 8 7 ... 6 5 1] [9 8 7 ... 6 3 8]\n",
      "0.832\n",
      "Iteration:  410\n",
      "[9 8 7 ... 6 5 1] [9 8 7 ... 6 3 8]\n",
      "0.833780487804878\n",
      "Iteration:  420\n",
      "[9 8 7 ... 6 5 1] [9 8 7 ... 6 3 8]\n",
      "0.8355609756097561\n",
      "Iteration:  430\n",
      "[9 8 7 ... 6 5 1] [9 8 7 ... 6 3 8]\n",
      "0.8371219512195122\n",
      "Iteration:  440\n",
      "[9 8 7 ... 6 5 1] [9 8 7 ... 6 3 8]\n",
      "0.8385121951219512\n",
      "Iteration:  450\n",
      "[9 8 7 ... 6 5 1] [9 8 7 ... 6 3 8]\n",
      "0.8399268292682927\n",
      "Iteration:  460\n",
      "[9 8 7 ... 6 3 1] [9 8 7 ... 6 3 8]\n",
      "0.8414390243902439\n",
      "Iteration:  470\n",
      "[9 8 7 ... 6 3 1] [9 8 7 ... 6 3 8]\n",
      "0.842780487804878\n",
      "Iteration:  480\n",
      "[9 8 7 ... 6 3 1] [9 8 7 ... 6 3 8]\n",
      "0.8438048780487805\n",
      "Iteration:  490\n",
      "[9 8 7 ... 6 3 1] [9 8 7 ... 6 3 8]\n",
      "0.8448292682926829\n"
     ]
    }
   ],
   "source": [
    "W1, b1, W2, b2 = gradient_descent(X_train, Y_train, 0.10, 500)"
   ]
  }
 ],
 "metadata": {
  "kaggle": {
   "accelerator": "none",
   "dataSources": [
    {
     "databundleVersionId": 861823,
     "sourceId": 3004,
     "sourceType": "competition"
    },
    {
     "sourceId": 47652503,
     "sourceType": "kernelVersion"
    }
   ],
   "dockerImageVersionId": 31012,
   "isGpuEnabled": false,
   "isInternetEnabled": false,
   "language": "python",
   "sourceType": "notebook"
  },
  "kernelspec": {
   "display_name": "Python 3",
   "language": "python",
   "name": "python3"
  },
  "language_info": {
   "codemirror_mode": {
    "name": "ipython",
    "version": 3
   },
   "file_extension": ".py",
   "mimetype": "text/x-python",
   "name": "python",
   "nbconvert_exporter": "python",
   "pygments_lexer": "ipython3",
   "version": "3.11.11"
  },
  "papermill": {
   "default_parameters": {},
   "duration": 59.072418,
   "end_time": "2025-04-24T20:11:55.121616",
   "environment_variables": {},
   "exception": null,
   "input_path": "__notebook__.ipynb",
   "output_path": "__notebook__.ipynb",
   "parameters": {},
   "start_time": "2025-04-24T20:10:56.049198",
   "version": "2.6.0"
  }
 },
 "nbformat": 4,
 "nbformat_minor": 5
}
